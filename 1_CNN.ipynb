{
 "cells": [
  {
   "cell_type": "markdown",
   "metadata": {},
   "source": [
    "# 1. CNN with Pattern images based on Lengyel-Epstein model"
   ]
  },
  {
   "cell_type": "markdown",
   "metadata": {},
   "source": [
    "## 1) Import Packages"
   ]
  },
  {
   "cell_type": "code",
   "execution_count": 1,
   "metadata": {},
   "outputs": [
    {
     "name": "stderr",
     "output_type": "stream",
     "text": [
      "Using TensorFlow backend.\n"
     ]
    }
   ],
   "source": [
    "import warnings\n",
    "warnings.simplefilter(action='ignore', category=FutureWarning)\n",
    "\n",
    "import sys\n",
    "import tensorflow as tf\n",
    "import keras\n",
    "from keras.models import Sequential\n",
    "from keras.layers import Dense, Dropout, Flatten\n",
    "from keras.layers.convolutional import Conv2D, MaxPooling2D"
   ]
  },
  {
   "cell_type": "code",
   "execution_count": 2,
   "metadata": {},
   "outputs": [],
   "source": [
    "from PIL import Image \n",
    "import numpy as np\n",
    "import matplotlib.pyplot as plt\n",
    "import random\n",
    "from sklearn.model_selection import train_test_split\n",
    "from sklearn.preprocessing import OneHotEncoder\n",
    "from tensorflow.python.framework import ops"
   ]
  },
  {
   "cell_type": "markdown",
   "metadata": {},
   "source": [
    "## 2) Make Dataset"
   ]
  },
  {
   "cell_type": "code",
   "execution_count": 3,
   "metadata": {},
   "outputs": [],
   "source": [
    "# Make dataset (144)\n",
    "x_orig = []\n",
    "y_orig = np.zeros((1,48))\n",
    "for i in range(1,145):\n",
    "    if i <= 48 :\n",
    "        folder = 0\n",
    "    elif i <=96 :\n",
    "        folder = 1\n",
    "    else:\n",
    "        folder = 2\n",
    "\n",
    "    img = Image.open('144/{0}/pattern_{1}.jpg'.format(folder,i)) \n",
    "    data = np.array(img)\n",
    "    x_orig.append(data)\n",
    "\n",
    "for i in range(1,3):\n",
    "    y_orig = np.append(y_orig, np.full((1, 48),i), axis = 1)"
   ]
  },
  {
   "cell_type": "code",
   "execution_count": 33,
   "metadata": {},
   "outputs": [],
   "source": [
    "# Make dataset (360)\n",
    "x_orig = []\n",
    "y_orig = np.zeros((1,120))\n",
    "for i in range(1,361):\n",
    "    if i <= 120 :\n",
    "        folder = 0\n",
    "    elif i <=240 :\n",
    "        folder = 1\n",
    "    else:\n",
    "        folder = 2\n",
    "\n",
    "    img = Image.open('360/{0}/pattern_{1}.jpg'.format(folder,i)) \n",
    "    data = np.array(img)\n",
    "    x_orig.append(data)\n",
    "\n",
    "for i in range(1,3):\n",
    "    y_orig = np.append(y_orig, np.full((1, 120),i), axis = 1)"
   ]
  },
  {
   "cell_type": "code",
   "execution_count": 44,
   "metadata": {},
   "outputs": [],
   "source": [
    "# Make dataset (720)\n",
    "x_orig = []\n",
    "y_orig = np.zeros((1,240))\n",
    "for i in range(1,721):\n",
    "    if i <= 240 :\n",
    "        folder = 0\n",
    "    elif i <=480 :\n",
    "        folder = 1\n",
    "    else:\n",
    "        folder = 2\n",
    "\n",
    "    img = Image.open('720/{0}/pattern_{1}.jpg'.format(folder,i)) \n",
    "    data = np.array(img)\n",
    "    x_orig.append(data)\n",
    "\n",
    "for i in range(1,3):\n",
    "    y_orig = np.append(y_orig, np.full((1, 240),i), axis = 1)"
   ]
  },
  {
   "cell_type": "code",
   "execution_count": 4,
   "metadata": {
    "scrolled": true
   },
   "outputs": [
    {
     "name": "stdout",
     "output_type": "stream",
     "text": [
      "(144, 64, 64)\n",
      "(1, 144)\n"
     ]
    }
   ],
   "source": [
    "x_orig = np.array(x_orig)\n",
    "print(x_orig.shape)\n",
    "print(y_orig.shape)  "
   ]
  },
  {
   "cell_type": "code",
   "execution_count": 5,
   "metadata": {},
   "outputs": [
    {
     "name": "stdout",
     "output_type": "stream",
     "text": [
      "(144, 64, 64)\n",
      "(1, 144)\n"
     ]
    }
   ],
   "source": [
    "# Random shuffle\n",
    "s = np.arange(x_orig.shape[0])\n",
    "np.random.shuffle(s)\n",
    "\n",
    "x_shuffle = x_orig[s,:]\n",
    "y_shuffle = y_orig[:,s]\n",
    "\n",
    "print(x_shuffle.shape)\n",
    "print(y_shuffle.shape)\n",
    "# y_shuffle"
   ]
  },
  {
   "cell_type": "code",
   "execution_count": 6,
   "metadata": {},
   "outputs": [],
   "source": [
    "# Split train and test datasets\n",
    "x_train_orig, x_test_orig, y_train_orig, y_test_orig = train_test_split(x_shuffle,y_shuffle.T, test_size=0.3,  shuffle=True, random_state=1004)"
   ]
  },
  {
   "cell_type": "code",
   "execution_count": 7,
   "metadata": {
    "scrolled": true
   },
   "outputs": [
    {
     "name": "stdout",
     "output_type": "stream",
     "text": [
      "number of training examples = 64\n",
      "number of test examples = 64\n",
      "x_train shape: (100, 64, 64)\n",
      "y_train shape: (100, 3)\n",
      "x_test shape: (44, 64, 64)\n",
      "y_test shape: (44, 3)\n"
     ]
    }
   ],
   "source": [
    "# Normalize image vectors\n",
    "x_train = x_train_orig/255.\n",
    "x_test = x_test_orig/255.\n",
    "\n",
    "# Convert train and test labels to one hot matrices\n",
    "enc = OneHotEncoder()\n",
    "y1 = y_train_orig.reshape(-1,1)\n",
    "enc.fit(y1)\n",
    "y_train = enc.transform(y1).toarray()\n",
    "\n",
    "y2 = y_test_orig.reshape(-1,1)\n",
    "enc.fit(y2)\n",
    "y_test = enc.transform(y2).toarray()\n",
    "\n",
    "# Explore your dataset \n",
    "print (\"number of training examples = \" + str(x_train.shape[1]))\n",
    "print (\"number of test examples = \" + str(x_test.shape[1]))\n",
    "print (\"x_train shape: \" + str(x_train.shape))\n",
    "print (\"y_train shape: \" + str(y_train.shape))\n",
    "print (\"x_test shape: \" + str(x_test.shape))\n",
    "print (\"y_test shape: \" + str(y_test.shape))"
   ]
  },
  {
   "cell_type": "markdown",
   "metadata": {},
   "source": [
    "## 3) CNN(Convolutional Neural Network)"
   ]
  },
  {
   "cell_type": "code",
   "execution_count": 15,
   "metadata": {},
   "outputs": [],
   "source": [
    "x_train = x_train.reshape(x_train.shape[0], 64, 64, 1)\n",
    "x_test = x_test.reshape(x_test.shape[0], 64, 64, 1)\n",
    "batch_size = 128\n",
    "num_classes = 3\n",
    "epochs = 100"
   ]
  },
  {
   "cell_type": "code",
   "execution_count": 16,
   "metadata": {},
   "outputs": [
    {
     "name": "stdout",
     "output_type": "stream",
     "text": [
      "Model: \"sequential_3\"\n",
      "_________________________________________________________________\n",
      "Layer (type)                 Output Shape              Param #   \n",
      "=================================================================\n",
      "conv2d_5 (Conv2D)            (None, 64, 64, 32)        832       \n",
      "_________________________________________________________________\n",
      "max_pooling2d_5 (MaxPooling2 (None, 32, 32, 32)        0         \n",
      "_________________________________________________________________\n",
      "conv2d_6 (Conv2D)            (None, 32, 32, 64)        8256      \n",
      "_________________________________________________________________\n",
      "max_pooling2d_6 (MaxPooling2 (None, 16, 16, 64)        0         \n",
      "_________________________________________________________________\n",
      "dropout_5 (Dropout)          (None, 16, 16, 64)        0         \n",
      "_________________________________________________________________\n",
      "flatten_3 (Flatten)          (None, 16384)             0         \n",
      "_________________________________________________________________\n",
      "dense_5 (Dense)              (None, 1000)              16385000  \n",
      "_________________________________________________________________\n",
      "dropout_6 (Dropout)          (None, 1000)              0         \n",
      "_________________________________________________________________\n",
      "dense_6 (Dense)              (None, 3)                 3003      \n",
      "=================================================================\n",
      "Total params: 16,397,091\n",
      "Trainable params: 16,397,091\n",
      "Non-trainable params: 0\n",
      "_________________________________________________________________\n"
     ]
    }
   ],
   "source": [
    "model = Sequential()\n",
    "model.add(Conv2D(32, kernel_size=(5, 5), strides=(1, 1), padding='same',\n",
    "                 activation='relu',\n",
    "                 input_shape=(64,64,1)))\n",
    "model.add(MaxPooling2D(pool_size=(2, 2), strides=(2, 2)))\n",
    "model.add(Conv2D(64, (2, 2), activation='relu', padding='same'))\n",
    "model.add(MaxPooling2D(pool_size=(2, 2)))\n",
    "model.add(Dropout(0.25))\n",
    "model.add(Flatten())\n",
    "model.add(Dense(1000, activation='relu'))\n",
    "model.add(Dropout(0.5))\n",
    "model.add(Dense(num_classes, activation='softmax'))\n",
    "model.summary()"
   ]
  },
  {
   "cell_type": "code",
   "execution_count": 17,
   "metadata": {
    "scrolled": false
   },
   "outputs": [
    {
     "name": "stdout",
     "output_type": "stream",
     "text": [
      "Train on 100 samples, validate on 44 samples\n",
      "Epoch 1/100\n",
      "100/100 [==============================] - 1s 11ms/step - loss: 1.1086 - accuracy: 0.3400 - val_loss: 2.7072 - val_accuracy: 0.2500\n",
      "Epoch 2/100\n",
      "100/100 [==============================] - 1s 7ms/step - loss: 2.1725 - accuracy: 0.3700 - val_loss: 3.2974 - val_accuracy: 0.3182\n",
      "Epoch 3/100\n",
      "100/100 [==============================] - 1s 6ms/step - loss: 3.6996 - accuracy: 0.3400 - val_loss: 2.1146 - val_accuracy: 0.4318\n",
      "Epoch 4/100\n",
      "100/100 [==============================] - 1s 6ms/step - loss: 2.7750 - accuracy: 0.3000 - val_loss: 1.6390 - val_accuracy: 0.4318\n",
      "Epoch 5/100\n",
      "100/100 [==============================] - 1s 6ms/step - loss: 2.0627 - accuracy: 0.2900 - val_loss: 1.1146 - val_accuracy: 0.4318\n",
      "Epoch 6/100\n",
      "100/100 [==============================] - 1s 6ms/step - loss: 1.2335 - accuracy: 0.3200 - val_loss: 1.3323 - val_accuracy: 0.2500\n",
      "Epoch 7/100\n",
      "100/100 [==============================] - 1s 6ms/step - loss: 1.1565 - accuracy: 0.3600 - val_loss: 1.5123 - val_accuracy: 0.2500\n",
      "Epoch 8/100\n",
      "100/100 [==============================] - 1s 6ms/step - loss: 1.2683 - accuracy: 0.3900 - val_loss: 1.5121 - val_accuracy: 0.2500\n",
      "Epoch 9/100\n",
      "100/100 [==============================] - 1s 6ms/step - loss: 1.2493 - accuracy: 0.3500 - val_loss: 1.4470 - val_accuracy: 0.3182\n",
      "Epoch 10/100\n",
      "100/100 [==============================] - 1s 6ms/step - loss: 1.2186 - accuracy: 0.3900 - val_loss: 1.3465 - val_accuracy: 0.3182\n",
      "Epoch 11/100\n",
      "100/100 [==============================] - 1s 6ms/step - loss: 1.1604 - accuracy: 0.3500 - val_loss: 1.2368 - val_accuracy: 0.3182\n",
      "Epoch 12/100\n",
      "100/100 [==============================] - 1s 6ms/step - loss: 1.0964 - accuracy: 0.4200 - val_loss: 1.1579 - val_accuracy: 0.5000\n",
      "Epoch 13/100\n",
      "100/100 [==============================] - 1s 6ms/step - loss: 1.0530 - accuracy: 0.4300 - val_loss: 1.1135 - val_accuracy: 0.2500\n",
      "Epoch 14/100\n",
      "100/100 [==============================] - 1s 6ms/step - loss: 1.0465 - accuracy: 0.4100 - val_loss: 1.0857 - val_accuracy: 0.2500\n",
      "Epoch 15/100\n",
      "100/100 [==============================] - 1s 6ms/step - loss: 1.0377 - accuracy: 0.4400 - val_loss: 1.0670 - val_accuracy: 0.6136\n",
      "Epoch 16/100\n",
      "100/100 [==============================] - 1s 6ms/step - loss: 1.0540 - accuracy: 0.5500 - val_loss: 1.0555 - val_accuracy: 0.7727\n",
      "Epoch 17/100\n",
      "100/100 [==============================] - 1s 7ms/step - loss: 1.0482 - accuracy: 0.6100 - val_loss: 1.0496 - val_accuracy: 0.7045\n",
      "Epoch 18/100\n",
      "100/100 [==============================] - 1s 6ms/step - loss: 1.0278 - accuracy: 0.7000 - val_loss: 1.0495 - val_accuracy: 0.4091\n",
      "Epoch 19/100\n",
      "100/100 [==============================] - 1s 6ms/step - loss: 1.0137 - accuracy: 0.5800 - val_loss: 1.0560 - val_accuracy: 0.4773\n",
      "Epoch 20/100\n",
      "100/100 [==============================] - 1s 6ms/step - loss: 1.0096 - accuracy: 0.6000 - val_loss: 1.0716 - val_accuracy: 0.4773\n",
      "Epoch 21/100\n",
      "100/100 [==============================] - 1s 6ms/step - loss: 0.9904 - accuracy: 0.6600 - val_loss: 1.0866 - val_accuracy: 0.2955\n",
      "Epoch 22/100\n",
      "100/100 [==============================] - 1s 6ms/step - loss: 0.9871 - accuracy: 0.5400 - val_loss: 1.0817 - val_accuracy: 0.3864\n",
      "Epoch 23/100\n",
      "100/100 [==============================] - 1s 6ms/step - loss: 0.9767 - accuracy: 0.6000 - val_loss: 1.0644 - val_accuracy: 0.5000\n",
      "Epoch 24/100\n",
      "100/100 [==============================] - 1s 7ms/step - loss: 0.9632 - accuracy: 0.6600 - val_loss: 1.0479 - val_accuracy: 0.5000\n",
      "Epoch 25/100\n",
      "100/100 [==============================] - 1s 6ms/step - loss: 0.9576 - accuracy: 0.6300 - val_loss: 1.0334 - val_accuracy: 0.5000\n",
      "Epoch 26/100\n",
      "100/100 [==============================] - 1s 6ms/step - loss: 0.9398 - accuracy: 0.6600 - val_loss: 1.0236 - val_accuracy: 0.5227\n",
      "Epoch 27/100\n",
      "100/100 [==============================] - 1s 7ms/step - loss: 0.9199 - accuracy: 0.6900 - val_loss: 1.0163 - val_accuracy: 0.5227\n",
      "Epoch 28/100\n",
      "100/100 [==============================] - 1s 6ms/step - loss: 0.9034 - accuracy: 0.6600 - val_loss: 0.9993 - val_accuracy: 0.5227\n",
      "Epoch 29/100\n",
      "100/100 [==============================] - 1s 6ms/step - loss: 0.8865 - accuracy: 0.6900 - val_loss: 0.9820 - val_accuracy: 0.5227\n",
      "Epoch 30/100\n",
      "100/100 [==============================] - 1s 6ms/step - loss: 0.8693 - accuracy: 0.7200 - val_loss: 0.9700 - val_accuracy: 0.5227\n",
      "Epoch 31/100\n",
      "100/100 [==============================] - 1s 6ms/step - loss: 0.8425 - accuracy: 0.7300 - val_loss: 0.9605 - val_accuracy: 0.5455\n",
      "Epoch 32/100\n",
      "100/100 [==============================] - 1s 6ms/step - loss: 0.8256 - accuracy: 0.6900 - val_loss: 0.9255 - val_accuracy: 0.5227\n",
      "Epoch 33/100\n",
      "100/100 [==============================] - 1s 6ms/step - loss: 0.8088 - accuracy: 0.7400 - val_loss: 0.9067 - val_accuracy: 0.5909\n",
      "Epoch 34/100\n",
      "100/100 [==============================] - 1s 6ms/step - loss: 0.7782 - accuracy: 0.8300 - val_loss: 0.8893 - val_accuracy: 0.7500\n",
      "Epoch 35/100\n",
      "100/100 [==============================] - 1s 6ms/step - loss: 0.7556 - accuracy: 0.8100 - val_loss: 0.8467 - val_accuracy: 0.6591\n",
      "Epoch 36/100\n",
      "100/100 [==============================] - 1s 6ms/step - loss: 0.7054 - accuracy: 0.9600 - val_loss: 0.8284 - val_accuracy: 0.7955\n",
      "Epoch 37/100\n",
      "100/100 [==============================] - 1s 6ms/step - loss: 0.6760 - accuracy: 0.9100 - val_loss: 0.8216 - val_accuracy: 0.8182\n",
      "Epoch 38/100\n",
      "100/100 [==============================] - 1s 6ms/step - loss: 0.6435 - accuracy: 0.9100 - val_loss: 0.7614 - val_accuracy: 0.8409\n",
      "Epoch 39/100\n",
      "100/100 [==============================] - 1s 6ms/step - loss: 0.6527 - accuracy: 0.9500 - val_loss: 0.7442 - val_accuracy: 0.9318\n",
      "Epoch 40/100\n",
      "100/100 [==============================] - 1s 6ms/step - loss: 0.6312 - accuracy: 0.9100 - val_loss: 0.7168 - val_accuracy: 0.9318\n",
      "Epoch 41/100\n",
      "100/100 [==============================] - 1s 6ms/step - loss: 0.5497 - accuracy: 0.9600 - val_loss: 0.6857 - val_accuracy: 0.8636\n",
      "Epoch 42/100\n",
      "100/100 [==============================] - 1s 6ms/step - loss: 0.5333 - accuracy: 0.9200 - val_loss: 0.6855 - val_accuracy: 0.9318\n",
      "Epoch 43/100\n",
      "100/100 [==============================] - 1s 6ms/step - loss: 0.5102 - accuracy: 0.9100 - val_loss: 0.6143 - val_accuracy: 0.9091\n",
      "Epoch 44/100\n",
      "100/100 [==============================] - 1s 6ms/step - loss: 0.4734 - accuracy: 0.9700 - val_loss: 0.5790 - val_accuracy: 0.9545\n",
      "Epoch 45/100\n",
      "100/100 [==============================] - 1s 6ms/step - loss: 0.4438 - accuracy: 0.9600 - val_loss: 0.5932 - val_accuracy: 0.9318\n",
      "Epoch 46/100\n",
      "100/100 [==============================] - 1s 6ms/step - loss: 0.4070 - accuracy: 0.9800 - val_loss: 0.5433 - val_accuracy: 0.9091\n",
      "Epoch 47/100\n",
      "100/100 [==============================] - 1s 6ms/step - loss: 0.4125 - accuracy: 0.9900 - val_loss: 0.4951 - val_accuracy: 0.9545\n",
      "Epoch 48/100\n",
      "100/100 [==============================] - 1s 6ms/step - loss: 0.3245 - accuracy: 0.9800 - val_loss: 0.5319 - val_accuracy: 0.9091\n",
      "Epoch 49/100\n",
      "100/100 [==============================] - 1s 6ms/step - loss: 0.3563 - accuracy: 0.9300 - val_loss: 0.4660 - val_accuracy: 0.9318\n",
      "Epoch 50/100\n",
      "100/100 [==============================] - 1s 6ms/step - loss: 0.3148 - accuracy: 0.9900 - val_loss: 0.4180 - val_accuracy: 0.9545\n",
      "Epoch 51/100\n",
      "100/100 [==============================] - 1s 6ms/step - loss: 0.2526 - accuracy: 1.0000 - val_loss: 0.4576 - val_accuracy: 0.9318\n",
      "Epoch 52/100\n",
      "100/100 [==============================] - 1s 6ms/step - loss: 0.2826 - accuracy: 0.9700 - val_loss: 0.3676 - val_accuracy: 0.9545\n",
      "Epoch 53/100\n",
      "100/100 [==============================] - 1s 6ms/step - loss: 0.2387 - accuracy: 1.0000 - val_loss: 0.3742 - val_accuracy: 0.9318\n",
      "Epoch 54/100\n",
      "100/100 [==============================] - 1s 6ms/step - loss: 0.2194 - accuracy: 0.9900 - val_loss: 0.3398 - val_accuracy: 0.9773\n",
      "Epoch 55/100\n",
      "100/100 [==============================] - 1s 6ms/step - loss: 0.2061 - accuracy: 1.0000 - val_loss: 0.3214 - val_accuracy: 0.9773\n",
      "Epoch 56/100\n",
      "100/100 [==============================] - 1s 6ms/step - loss: 0.1710 - accuracy: 0.9900 - val_loss: 0.2895 - val_accuracy: 0.9545\n",
      "Epoch 57/100\n",
      "100/100 [==============================] - 1s 6ms/step - loss: 0.1554 - accuracy: 1.0000 - val_loss: 0.2805 - val_accuracy: 0.9545\n"
     ]
    },
    {
     "name": "stdout",
     "output_type": "stream",
     "text": [
      "Epoch 58/100\n",
      "100/100 [==============================] - 1s 6ms/step - loss: 0.1554 - accuracy: 1.0000 - val_loss: 0.2811 - val_accuracy: 0.9773\n",
      "Epoch 59/100\n",
      "100/100 [==============================] - 1s 6ms/step - loss: 0.1353 - accuracy: 1.0000 - val_loss: 0.2348 - val_accuracy: 0.9773\n",
      "Epoch 60/100\n",
      "100/100 [==============================] - 1s 6ms/step - loss: 0.1241 - accuracy: 1.0000 - val_loss: 0.2251 - val_accuracy: 0.9545\n",
      "Epoch 61/100\n",
      "100/100 [==============================] - 1s 6ms/step - loss: 0.1128 - accuracy: 1.0000 - val_loss: 0.2071 - val_accuracy: 0.9773\n",
      "Epoch 62/100\n",
      "100/100 [==============================] - 1s 6ms/step - loss: 0.0940 - accuracy: 1.0000 - val_loss: 0.2040 - val_accuracy: 0.9773\n",
      "Epoch 63/100\n",
      "100/100 [==============================] - 1s 6ms/step - loss: 0.0904 - accuracy: 1.0000 - val_loss: 0.1857 - val_accuracy: 0.9773\n",
      "Epoch 64/100\n",
      "100/100 [==============================] - 1s 6ms/step - loss: 0.0848 - accuracy: 1.0000 - val_loss: 0.1734 - val_accuracy: 0.9773\n",
      "Epoch 65/100\n",
      "100/100 [==============================] - 1s 6ms/step - loss: 0.0778 - accuracy: 1.0000 - val_loss: 0.1597 - val_accuracy: 0.9773\n",
      "Epoch 66/100\n",
      "100/100 [==============================] - 1s 6ms/step - loss: 0.0673 - accuracy: 1.0000 - val_loss: 0.1578 - val_accuracy: 1.0000\n",
      "Epoch 67/100\n",
      "100/100 [==============================] - 1s 6ms/step - loss: 0.0776 - accuracy: 1.0000 - val_loss: 0.1517 - val_accuracy: 0.9773\n",
      "Epoch 68/100\n",
      "100/100 [==============================] - 1s 6ms/step - loss: 0.0540 - accuracy: 1.0000 - val_loss: 0.1551 - val_accuracy: 0.9545\n",
      "Epoch 69/100\n",
      "100/100 [==============================] - 1s 6ms/step - loss: 0.0555 - accuracy: 1.0000 - val_loss: 0.1234 - val_accuracy: 1.0000\n",
      "Epoch 70/100\n",
      "100/100 [==============================] - 1s 6ms/step - loss: 0.0413 - accuracy: 1.0000 - val_loss: 0.1235 - val_accuracy: 1.0000\n",
      "Epoch 71/100\n",
      "100/100 [==============================] - 1s 6ms/step - loss: 0.0467 - accuracy: 1.0000 - val_loss: 0.1115 - val_accuracy: 1.0000\n",
      "Epoch 72/100\n",
      "100/100 [==============================] - 1s 6ms/step - loss: 0.0414 - accuracy: 1.0000 - val_loss: 0.1212 - val_accuracy: 0.9773\n",
      "Epoch 73/100\n",
      "100/100 [==============================] - 1s 6ms/step - loss: 0.0391 - accuracy: 1.0000 - val_loss: 0.1069 - val_accuracy: 1.0000\n",
      "Epoch 74/100\n",
      "100/100 [==============================] - 1s 6ms/step - loss: 0.0345 - accuracy: 1.0000 - val_loss: 0.0978 - val_accuracy: 1.0000\n",
      "Epoch 75/100\n",
      "100/100 [==============================] - 1s 6ms/step - loss: 0.0335 - accuracy: 1.0000 - val_loss: 0.0925 - val_accuracy: 1.0000\n",
      "Epoch 76/100\n",
      "100/100 [==============================] - 1s 6ms/step - loss: 0.0311 - accuracy: 1.0000 - val_loss: 0.0906 - val_accuracy: 1.0000\n",
      "Epoch 77/100\n",
      "100/100 [==============================] - 1s 6ms/step - loss: 0.0235 - accuracy: 1.0000 - val_loss: 0.0980 - val_accuracy: 0.9773\n",
      "Epoch 78/100\n",
      "100/100 [==============================] - 1s 6ms/step - loss: 0.0316 - accuracy: 1.0000 - val_loss: 0.0873 - val_accuracy: 1.0000\n",
      "Epoch 79/100\n",
      "100/100 [==============================] - 1s 6ms/step - loss: 0.0259 - accuracy: 1.0000 - val_loss: 0.0793 - val_accuracy: 1.0000\n",
      "Epoch 80/100\n",
      "100/100 [==============================] - 1s 6ms/step - loss: 0.0204 - accuracy: 1.0000 - val_loss: 0.0748 - val_accuracy: 1.0000\n",
      "Epoch 81/100\n",
      "100/100 [==============================] - 1s 6ms/step - loss: 0.0165 - accuracy: 1.0000 - val_loss: 0.0745 - val_accuracy: 0.9773\n",
      "Epoch 82/100\n",
      "100/100 [==============================] - 1s 6ms/step - loss: 0.0193 - accuracy: 1.0000 - val_loss: 0.0838 - val_accuracy: 0.9773\n",
      "Epoch 83/100\n",
      "100/100 [==============================] - 1s 6ms/step - loss: 0.0178 - accuracy: 1.0000 - val_loss: 0.0758 - val_accuracy: 0.9773\n",
      "Epoch 84/100\n",
      "100/100 [==============================] - 1s 6ms/step - loss: 0.0180 - accuracy: 1.0000 - val_loss: 0.0666 - val_accuracy: 1.0000\n",
      "Epoch 85/100\n",
      "100/100 [==============================] - 1s 6ms/step - loss: 0.0139 - accuracy: 1.0000 - val_loss: 0.0721 - val_accuracy: 1.0000\n",
      "Epoch 86/100\n",
      "100/100 [==============================] - 1s 6ms/step - loss: 0.0191 - accuracy: 1.0000 - val_loss: 0.0627 - val_accuracy: 1.0000\n",
      "Epoch 87/100\n",
      "100/100 [==============================] - 1s 6ms/step - loss: 0.0152 - accuracy: 1.0000 - val_loss: 0.0814 - val_accuracy: 0.9773\n",
      "Epoch 88/100\n",
      "100/100 [==============================] - 1s 6ms/step - loss: 0.0127 - accuracy: 1.0000 - val_loss: 0.0978 - val_accuracy: 0.9545\n",
      "Epoch 89/100\n",
      "100/100 [==============================] - 1s 6ms/step - loss: 0.0194 - accuracy: 1.0000 - val_loss: 0.0625 - val_accuracy: 0.9773\n",
      "Epoch 90/100\n",
      "100/100 [==============================] - 1s 6ms/step - loss: 0.0151 - accuracy: 1.0000 - val_loss: 0.0612 - val_accuracy: 1.0000\n",
      "Epoch 91/100\n",
      "100/100 [==============================] - 1s 6ms/step - loss: 0.0133 - accuracy: 1.0000 - val_loss: 0.0634 - val_accuracy: 1.0000\n",
      "Epoch 92/100\n",
      "100/100 [==============================] - 1s 6ms/step - loss: 0.0132 - accuracy: 1.0000 - val_loss: 0.0592 - val_accuracy: 1.0000\n",
      "Epoch 93/100\n",
      "100/100 [==============================] - 1s 6ms/step - loss: 0.0110 - accuracy: 1.0000 - val_loss: 0.0725 - val_accuracy: 0.9773\n",
      "Epoch 94/100\n",
      "100/100 [==============================] - 1s 6ms/step - loss: 0.0125 - accuracy: 1.0000 - val_loss: 0.0627 - val_accuracy: 0.9773\n",
      "Epoch 95/100\n",
      "100/100 [==============================] - 1s 6ms/step - loss: 0.0108 - accuracy: 1.0000 - val_loss: 0.0478 - val_accuracy: 1.0000\n",
      "Epoch 96/100\n",
      "100/100 [==============================] - 1s 6ms/step - loss: 0.0087 - accuracy: 1.0000 - val_loss: 0.0479 - val_accuracy: 1.0000\n",
      "Epoch 97/100\n",
      "100/100 [==============================] - 1s 6ms/step - loss: 0.0133 - accuracy: 1.0000 - val_loss: 0.0456 - val_accuracy: 1.0000\n",
      "Epoch 98/100\n",
      "100/100 [==============================] - 1s 7ms/step - loss: 0.0063 - accuracy: 1.0000 - val_loss: 0.0512 - val_accuracy: 1.0000\n",
      "Epoch 99/100\n",
      "100/100 [==============================] - 1s 6ms/step - loss: 0.0086 - accuracy: 1.0000 - val_loss: 0.0554 - val_accuracy: 1.0000\n",
      "Epoch 100/100\n",
      "100/100 [==============================] - 1s 6ms/step - loss: 0.0088 - accuracy: 1.0000 - val_loss: 0.0517 - val_accuracy: 1.0000\n"
     ]
    }
   ],
   "source": [
    "model.compile(loss='categorical_crossentropy', optimizer='adam', metrics=['accuracy'])\n",
    "hist = model.fit(x_train, y_train,\n",
    "                 batch_size=batch_size,\n",
    "                 epochs=epochs,\n",
    "                 verbose=1, \n",
    "                 validation_data=(x_test, y_test))"
   ]
  },
  {
   "cell_type": "markdown",
   "metadata": {},
   "source": [
    "## 4) Accuracy analysis"
   ]
  },
  {
   "cell_type": "code",
   "execution_count": 18,
   "metadata": {},
   "outputs": [
    {
     "name": "stdout",
     "output_type": "stream",
     "text": [
      "Test loss: 0.05173249034719034\n",
      "Test accuracy: 1.0\n"
     ]
    }
   ],
   "source": [
    "score = model.evaluate(x_test, y_test, verbose=0)\n",
    "print('Test loss:', score[0])\n",
    "print('Test accuracy:', score[1])"
   ]
  },
  {
   "cell_type": "code",
   "execution_count": 19,
   "metadata": {},
   "outputs": [],
   "source": [
    "predictions = model.predict(x_test)"
   ]
  },
  {
   "cell_type": "code",
   "execution_count": 21,
   "metadata": {},
   "outputs": [
    {
     "data": {
      "text/plain": [
       "array([0.03165185, 0.1711205 , 0.7972276 ], dtype=float32)"
      ]
     },
     "execution_count": 21,
     "metadata": {},
     "output_type": "execute_result"
    }
   ],
   "source": [
    "predictions[10]"
   ]
  },
  {
   "cell_type": "code",
   "execution_count": 23,
   "metadata": {},
   "outputs": [
    {
     "name": "stdout",
     "output_type": "stream",
     "text": [
      "2\n"
     ]
    },
    {
     "data": {
      "text/plain": [
       "<matplotlib.image.AxesImage at 0x240ea66b5c8>"
      ]
     },
     "execution_count": 23,
     "metadata": {},
     "output_type": "execute_result"
    },
    {
     "data": {
      "image/png": "[encoded data removed]",
      "text/plain": [
       "<Figure size 432x288 with 1 Axes>"
      ]
     },
     "metadata": {
      "needs_background": "light"
     },
     "output_type": "display_data"
    }
   ],
   "source": [
    "print(np.argmax(predictions[10]))  # highest confidence\n",
    "# This model is convinced that this image is \"2\"\n",
    "\n",
    "plt.imshow(x_test[10].reshape(64,64))"
   ]
  }
 ],
 "metadata": {
  "kernelspec": {
   "display_name": "Python 3",
   "language": "python",
   "name": "python3"
  },
  "language_info": {
   "codemirror_mode": {
    "name": "ipython",
    "version": 3
   },
   "file_extension": ".py",
   "mimetype": "text/x-python",
   "name": "python",
   "nbconvert_exporter": "python",
   "pygments_lexer": "ipython3",
   "version": "3.7.4"
  }
 },
 "nbformat": 4,
 "nbformat_minor": 2
}
