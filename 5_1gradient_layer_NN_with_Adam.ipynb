{
 "cells": [
  {
   "cell_type": "markdown",
   "metadata": {},
   "source": [
    "# 5. Single-layer Neural Network with Pattern images based on Lengyel-Epstein model\n",
    "- X : imges, Z = W * gradient(X) + b\n",
    "- optimizer : Adam"
   ]
  },
  {
   "cell_type": "markdown",
   "metadata": {},
   "source": [
    "## 1) Import Packages"
   ]
  },
  {
   "cell_type": "code",
   "execution_count": 1,
   "metadata": {},
   "outputs": [],
   "source": [
    "from PIL import Image \n",
    "import numpy as np\n",
    "import matplotlib.pyplot as plt\n",
    "import random\n",
    "from sklearn.model_selection import train_test_split\n",
    "from sklearn.preprocessing import OneHotEncoder\n",
    "import math\n",
    "import sklearn.metrics as metrics"
   ]
  },
  {
   "cell_type": "markdown",
   "metadata": {},
   "source": [
    "## 2) Make Dataset"
   ]
  },
  {
   "cell_type": "code",
   "execution_count": 2,
   "metadata": {},
   "outputs": [],
   "source": [
    "# Make dataset(144)\n",
    "x_orig = []\n",
    "y_orig = np.zeros((1,48))\n",
    "for i in range(1,145):\n",
    "    if i <= 48 :\n",
    "        folder = 0\n",
    "    elif i <=96 :\n",
    "        folder = 1\n",
    "    else:\n",
    "        folder = 2\n",
    "\n",
    "    img = Image.open('144/{0}/pattern_{1}.jpg'.format(folder,i)) \n",
    "    data = np.array(img)\n",
    "    x_orig.append(data)\n",
    "\n",
    "for i in range(1,3):\n",
    "    y_orig = np.append(y_orig, np.full((1, 48),i), axis = 1)"
   ]
  },
  {
   "cell_type": "code",
   "execution_count": 25,
   "metadata": {},
   "outputs": [],
   "source": [
    "# Make dataset(360)\n",
    "x_orig = []\n",
    "y_orig = np.zeros((1,120))\n",
    "for i in range(1,361):\n",
    "    if i <= 120 :\n",
    "        folder = 0\n",
    "    elif i <=240 :\n",
    "        folder = 1\n",
    "    else:\n",
    "        folder = 2\n",
    "\n",
    "    img = Image.open('360/{0}/pattern_{1}.jpg'.format(folder,i)) \n",
    "    data = np.array(img)\n",
    "    x_orig.append(data)\n",
    "\n",
    "for i in range(1,3):\n",
    "    y_orig = np.append(y_orig, np.full((1, 120),i), axis = 1)"
   ]
  },
  {
   "cell_type": "code",
   "execution_count": 41,
   "metadata": {},
   "outputs": [],
   "source": [
    "# Make dataset(720)\n",
    "x_orig = []\n",
    "y_orig = np.zeros((1,240))\n",
    "for i in range(1,721):\n",
    "    if i <= 240 :\n",
    "        folder = 0\n",
    "    elif i <=480 :\n",
    "        folder = 1\n",
    "    else:\n",
    "        folder = 2\n",
    "\n",
    "    img = Image.open('720/{0}/pattern_{1}.jpg'.format(folder,i)) \n",
    "    data = np.array(img)\n",
    "    x_orig.append(data)\n",
    "\n",
    "for i in range(1,3):\n",
    "    y_orig = np.append(y_orig, np.full((1, 240),i), axis = 1)"
   ]
  },
  {
   "cell_type": "code",
   "execution_count": 57,
   "metadata": {},
   "outputs": [
    {
     "name": "stdout",
     "output_type": "stream",
     "text": [
      "(1440, 64, 64)\n",
      "(1, 1440)\n"
     ]
    }
   ],
   "source": [
    "x_orig = np.array(x_orig)\n",
    "print(x_orig.shape)\n",
    "print(y_orig.shape)  "
   ]
  },
  {
   "cell_type": "code",
   "execution_count": 58,
   "metadata": {},
   "outputs": [
    {
     "name": "stdout",
     "output_type": "stream",
     "text": [
      "(1440, 64, 64)\n",
      "(1, 1440)\n"
     ]
    }
   ],
   "source": [
    "# Random shuffle\n",
    "s = np.arange(x_orig.shape[0])\n",
    "np.random.shuffle(s)\n",
    "\n",
    "x_shuffle = x_orig[s,:]\n",
    "y_shuffle = y_orig[:,s]\n",
    "\n",
    "print(x_shuffle.shape)\n",
    "print(y_shuffle.shape)\n",
    "# y_shuffle"
   ]
  },
  {
   "cell_type": "code",
   "execution_count": 59,
   "metadata": {},
   "outputs": [],
   "source": [
    "# Split train and test datasets\n",
    "x_train_orig, x_test_orig, y_train_orig, y_test_orig = train_test_split(x_shuffle,y_shuffle.T, \n",
    "                                                                        test_size=0.3,  shuffle=True, random_state=1004)"
   ]
  },
  {
   "cell_type": "code",
   "execution_count": 60,
   "metadata": {},
   "outputs": [
    {
     "name": "stdout",
     "output_type": "stream",
     "text": [
      "(1008, 64, 64)\n",
      "(1008, 1)\n"
     ]
    }
   ],
   "source": [
    "print(x_train_orig.shape)\n",
    "print (y_train_orig.shape)"
   ]
  },
  {
   "cell_type": "code",
   "execution_count": 61,
   "metadata": {
    "scrolled": true
   },
   "outputs": [
    {
     "name": "stdout",
     "output_type": "stream",
     "text": [
      "number of training examples = 1008\n",
      "number of test examples = 432\n",
      "x_train shape: (4096, 1008)\n",
      "y_train shape: (3, 1008)\n",
      "x_test shape: (4096, 432)\n",
      "y_test shape: (3, 432)\n"
     ]
    },
    {
     "name": "stderr",
     "output_type": "stream",
     "text": [
      "C:\\ProgramData\\Anaconda3\\lib\\site-packages\\sklearn\\preprocessing\\_encoders.py:415: FutureWarning: The handling of integer data will change in version 0.22. Currently, the categories are determined based on the range [0, max(values)], while in the future they will be determined based on the unique values.\n",
      "If you want the future behaviour and silence this warning, you can specify \"categories='auto'\".\n",
      "In case you used a LabelEncoder before this OneHotEncoder to convert the categories to integers, then you can now use the OneHotEncoder directly.\n",
      "  warnings.warn(msg, FutureWarning)\n",
      "C:\\ProgramData\\Anaconda3\\lib\\site-packages\\sklearn\\preprocessing\\_encoders.py:415: FutureWarning: The handling of integer data will change in version 0.22. Currently, the categories are determined based on the range [0, max(values)], while in the future they will be determined based on the unique values.\n",
      "If you want the future behaviour and silence this warning, you can specify \"categories='auto'\".\n",
      "In case you used a LabelEncoder before this OneHotEncoder to convert the categories to integers, then you can now use the OneHotEncoder directly.\n",
      "  warnings.warn(msg, FutureWarning)\n"
     ]
    }
   ],
   "source": [
    "# Flatten the training and test images\n",
    "x_train_flatten = x_train_orig.reshape(x_train_orig.shape[0], -1).T\n",
    "x_test_flatten = x_test_orig.reshape(x_test_orig.shape[0], -1).T\n",
    "\n",
    "# Normalize image vectors\n",
    "x_train = x_train_flatten/255.\n",
    "x_test = x_test_flatten/255.\n",
    "\n",
    "# Convert training and test labels to one hot matrices\n",
    "enc = OneHotEncoder()\n",
    "y1 = y_train_orig.reshape(-1,1)\n",
    "enc.fit(y1)\n",
    "y_train = enc.transform(y1).toarray()\n",
    "y_train = y_train.T\n",
    "\n",
    "y2 = y_test_orig.reshape(-1,1)\n",
    "enc.fit(y2)\n",
    "y_test = enc.transform(y2).toarray()\n",
    "y_test = y_test.T\n",
    "\n",
    "# Explore dataset \n",
    "print (\"number of training examples = \" + str(x_train.shape[1]))\n",
    "print (\"number of test examples = \" + str(x_test.shape[1]))\n",
    "print (\"x_train shape: \" + str(x_train.shape))\n",
    "print (\"y_train shape: \" + str(y_train.shape))\n",
    "print (\"x_test shape: \" + str(x_test.shape))\n",
    "print (\"y_test shape: \" + str(y_test.shape))"
   ]
  },
  {
   "cell_type": "markdown",
   "metadata": {},
   "source": [
    "## 3) Define required functions"
   ]
  },
  {
   "cell_type": "code",
   "execution_count": 62,
   "metadata": {},
   "outputs": [],
   "source": [
    "def initialize_parameters(nx, ny):\n",
    "    \"\"\"\n",
    "    Argument:\n",
    "        nx -- size of the input layer (4096)\n",
    "        ny -- size of the output layer (3)\n",
    "    \n",
    "    Returns:\n",
    "        W -- weight matrix of shape (ny, nx)\n",
    "        b -- bias vector of shape (ny, 1)\n",
    "\n",
    "    \"\"\"   \n",
    "    np.random.seed(1)\n",
    "\n",
    "    W = np.random.randn(ny,nx)*0.01\n",
    "    b = np.zeros((ny,1))\n",
    "\n",
    "    assert(W.shape == (ny, nx))\n",
    "    assert(b.shape == (ny, 1))\n",
    "\n",
    "    \n",
    "    return W, b  "
   ]
  },
  {
   "cell_type": "code",
   "execution_count": 63,
   "metadata": {},
   "outputs": [],
   "source": [
    "def softmax(Z):\n",
    "    # compute the softmax activation\n",
    "    \n",
    "    S = np.exp(Z + np.max(Z)) / np.sum(np.exp(Z + np.max(Z)), axis = 0)\n",
    "    \n",
    "    return S"
   ]
  },
  {
   "cell_type": "code",
   "execution_count": 64,
   "metadata": {},
   "outputs": [],
   "source": [
    "def classlabel(Z):\n",
    "    # probabilities back into class labels\n",
    "    y_hat = Z.argmax(axis=0)\n",
    "    \n",
    "    return y_hat"
   ]
  },
  {
   "cell_type": "code",
   "execution_count": 65,
   "metadata": {},
   "outputs": [],
   "source": [
    "def gradient_vec(X):\n",
    "    g_X_r = np.gradient(X, axis = 1)\n",
    "    g_X_c = np.gradient(X, axis = 0)\n",
    "    g_X = g_X_r**2 + g_X_c**2\n",
    "    return g_X"
   ]
  },
  {
   "cell_type": "code",
   "execution_count": 66,
   "metadata": {},
   "outputs": [],
   "source": [
    "def propagate(W, b, X, Y):\n",
    "\n",
    "    m = X.shape[1]\n",
    "#     n = Y.shape[0]\n",
    "    \n",
    "    # Forward Propagation\n",
    "    Z = np.dot(W, gradient_vec(X))+ b\n",
    "    A = softmax(Z)     # compute activation\n",
    "    \n",
    "    cost = (-1/m) * np.sum(Y * np.log(A)) # compute cost (Cross_entropy)\n",
    "    \n",
    "    # Backward propagation\n",
    "    dW = (1/m) * (np.dot(gradient_vec(X),(A-Y).T)).T\n",
    "    db = (1/m) * (np.sum(A-Y))\n",
    "\n",
    "#     assert(dW.shape == W.shape)\n",
    "#     assert(db.dtype == float)\n",
    "#     cost = np.squeeze(cost)\n",
    "#     assert(cost.shape == (Y.shape[0],1))\n",
    "    \n",
    "    grads = {\"dW\": dW,\n",
    "             \"db\": db}\n",
    "    \n",
    "    return grads, cost"
   ]
  },
  {
   "cell_type": "markdown",
   "metadata": {},
   "source": [
    "## 4) Single-Gradient Layer Neural Network with Adam"
   ]
  },
  {
   "cell_type": "code",
   "execution_count": 67,
   "metadata": {},
   "outputs": [],
   "source": [
    "def optimize(X, Y, num_iterations, learning_rate, t, beta1 = 0.9, beta2 = 0.999,  epsilon = 1e-8, print_cost = False):\n",
    "\n",
    "    costs = []\n",
    "    W, b = initialize_parameters(4096,3)     \n",
    "    v_dW = np.zeros((W.shape[0],W.shape[1]))\n",
    "    v_db = np.zeros((b.shape[0],b.shape[1]))\n",
    "    s_dW = np.zeros((W.shape[0],W.shape[1]))\n",
    "    s_db = np.zeros((b.shape[0],b.shape[1]))\n",
    "\n",
    "    \n",
    "    for i in range(num_iterations):\n",
    "\n",
    "        grads, cost = propagate(W, b, X, Y)\n",
    "\n",
    "        dW = grads[\"dW\"]\n",
    "        db = grads[\"db\"]\n",
    "        \n",
    "        # update parameters with adam\n",
    "        v_dW = beta1 * v_dW + (1-beta1) * dW\n",
    "        v_db = beta1 * v_db + (1-beta1) * db\n",
    "\n",
    "        # Compute bias-corrected first moment estimate\n",
    "        v_corrected_dW = v_dW / (1-beta1**t)\n",
    "        v_corrected_db = v_db / (1-beta1**t)\n",
    "        \n",
    "        # Moving average of the squared gradients\n",
    "        s_dW = beta2 * s_dW + (1-beta2) * dW ** 2\n",
    "        s_db = beta2 * s_db + (1-beta2) * db ** 2\n",
    "\n",
    "        # Compute bias-corrected second raw moment estimate.\n",
    "        s_corrected_dW = s_dW / (1-beta2**t)\n",
    "        s_corrected_db = s_db / (1-beta2**t)\n",
    "\n",
    "        # Update parameters\n",
    "        W = W - (learning_rate) * ((v_corrected_dW) / (s_corrected_dW **(1/2) + epsilon))\n",
    "        b = b - (learning_rate) * ((v_corrected_db) / (s_corrected_db ** (1/2) + epsilon))\n",
    "\n",
    "        # Record the costs for plotting\n",
    "        if i % 200 == 0:\n",
    "            costs.append(cost)\n",
    "            \n",
    "        # Print the cost every 100 training iterations\n",
    "        if print_cost and i % 200 == 0:\n",
    "            print (\"Cost after iteration %i: %f\" %(i, cost))\n",
    "            \n",
    "    # plot the cost\n",
    "    plt.plot(costs)\n",
    "    plt.ylabel('cost')\n",
    "    plt.xlabel('iterations (per 200)')\n",
    "    plt.title(\"Learning rate =\" + str(learning_rate))\n",
    "    plt.show()\n",
    "    \n",
    "    # Lets save the trainded parameters in a variable\n",
    "    params = {\"W\": W,\n",
    "              \"b\": b}    \n",
    "    grads = {\"dW\": dW,\n",
    "             \"db\": db}\n",
    "    \n",
    "    return params, grads, costs"
   ]
  },
  {
   "cell_type": "code",
   "execution_count": 68,
   "metadata": {
    "scrolled": true
   },
   "outputs": [
    {
     "name": "stdout",
     "output_type": "stream",
     "text": [
      "Cost after iteration 0: 1.098714\n",
      "Cost after iteration 200: 0.144494\n",
      "Cost after iteration 400: 0.086263\n",
      "Cost after iteration 600: 0.060650\n",
      "Cost after iteration 800: 0.045646\n",
      "Cost after iteration 1000: 0.035805\n",
      "Cost after iteration 1200: 0.028889\n",
      "Cost after iteration 1400: 0.023790\n",
      "Cost after iteration 1600: 0.019897\n",
      "Cost after iteration 1800: 0.016844\n"
     ]
    },
    {
     "data": {
      "image/png": "[encoded data removed]",
      "text/plain": [
       "<Figure size 432x288 with 1 Axes>"
      ]
     },
     "metadata": {
      "needs_background": "light"
     },
     "output_type": "display_data"
    },
    {
     "name": "stdout",
     "output_type": "stream",
     "text": [
      "W = [[  2.50934456   6.17733485   5.44041504 ...   8.31645126   9.64939476\n",
      "   10.38698927]\n",
      " [-11.16880787  -8.58595244  -0.63684861 ...  -6.69644835  -3.67368722\n",
      "   -2.64501852]\n",
      " [ 12.55292978   6.02316126  -1.59372459 ...   1.69422986  -2.88732411\n",
      "   -4.78004141]]\n",
      "b = [[-9.02304216e-08]\n",
      " [-9.02304216e-08]\n",
      " [-9.02304216e-08]]\n",
      "dw = [[ 7.93297397e-08 -1.28129805e-06 -1.39478207e-06 ... -2.30007579e-06\n",
      "  -2.02467796e-06 -2.30687442e-06]\n",
      " [ 4.36521465e-06  3.22673995e-06  1.98436253e-07 ...  2.63698604e-06\n",
      "   1.23883448e-06  1.38688339e-06]\n",
      " [-4.44454439e-06 -1.94544190e-06  1.19634581e-06 ... -3.36910253e-07\n",
      "   7.85843477e-07  9.19991034e-07]]\n",
      "db = 1.5419764230904951e-18\n"
     ]
    }
   ],
   "source": [
    "params, grads, costs = optimize(x_train, y_train, num_iterations=2000, learning_rate=0.9,\n",
    "                                t=2, beta1 = 0.9, beta2 = 0.999,  epsilon = 1e-8, print_cost = True)\n",
    "\n",
    "print (\"W = \" + str(params[\"W\"]))\n",
    "print (\"b = \" + str(params[\"b\"]))\n",
    "print (\"dw = \" + str(grads[\"dW\"]))\n",
    "print (\"db = \" + str(grads[\"db\"]))"
   ]
  },
  {
   "cell_type": "markdown",
   "metadata": {},
   "source": [
    "## 5) Accuracy Analysis"
   ]
  },
  {
   "cell_type": "code",
   "execution_count": 69,
   "metadata": {},
   "outputs": [],
   "source": [
    "def predict(W, b, X) :\n",
    "    '''\n",
    "    Predict the label(0,1,2) using argmax\n",
    "    \n",
    "    Arguments:\n",
    "    X : data of size (num_px * num_px, number of examples)\n",
    "    \n",
    "    Returns:\n",
    "    y_prediction : predictions (0/1/2) for the examples(my_image)\n",
    "    '''\n",
    "    \n",
    "    m = X.shape[1]\n",
    "    \n",
    "    # Compute \"A\" predicting the probabilities\n",
    "    Z = np.dot(W, gradient_vec(X))+ b\n",
    "    A = softmax(Z) \n",
    "\n",
    "    # Convert probabilities A to actual predictions\n",
    "    y_prediction = A.argmax(axis=0)\n",
    "    \n",
    "#     assert(y_prediction.shape == (1, m))\n",
    "    \n",
    "    return y_prediction"
   ]
  },
  {
   "cell_type": "code",
   "execution_count": 70,
   "metadata": {},
   "outputs": [
    {
     "name": "stdout",
     "output_type": "stream",
     "text": [
      "[2 1 2 ... 0 2 1]\n",
      "[0 2 0 2 0 2 1 1 1 1 1 1 1 2 1 1 2 0 2 0 2 2 2 1 2 1 1 1 0 0 2 0 2 0 2 0 1\n",
      " 1 0 2 1 2 1 0 0 1 0 1 1 1 2 1 0 1 2 1 2 0 2 0 2 1 2 2 0 0 2 2 2 1 1 0 2 0\n",
      " 0 2 0 0 2 1 0 2 2 0 2 0 2 0 0 0 2 1 1 2 2 0 0 0 1 1 0 1 2 2 0 1 2 2 2 2 0\n",
      " 0 0 2 2 1 1 2 1 2 1 2 1 2 2 0 0 0 1 0 1 2 2 0 2 0 1 2 1 0 1 1 1 1 0 0 1 2\n",
      " 1 0 1 2 0 0 1 1 1 0 0 2 1 0 0 1 2 1 2 2 1 0 2 1 1 0 2 0 2 2 2 0 0 2 2 2 0\n",
      " 1 1 0 1 0 1 2 2 1 0 2 0 1 0 1 1 0 0 0 2 2 1 2 1 0 2 2 2 0 2 0 1 2 1 0 1 1\n",
      " 1 1 1 0 1 0 1 0 1 0 2 2 2 1 2 1 2 2 2 0 0 2 1 2 0 1 0 0 0 0 0 1 1 0 0 2 0\n",
      " 1 2 1 0 1 0 2 0 0 1 0 2 0 2 0 2 2 2 2 1 1 1 0 1 1 0 1 1 0 1 0 2 1 2 1 1 1\n",
      " 1 2 0 2 1 2 0 1 0 2 0 0 1 0 2 0 2 0 0 1 0 1 0 2 2 1 1 1 2 2 1 1 1 2 1 0 2\n",
      " 2 1 1 1 1 1 1 1 1 0 2 1 1 2 0 1 0 2 0 0 0 2 1 1 1 2 0 1 0 1 0 0 2 2 0 1 0\n",
      " 1 1 0 2 1 0 1 1 1 1 0 2 0 1 0 0 2 2 0 2 2 1 1 1 2 0 2 1 0 1 0 1 2 0 2 0 2\n",
      " 1 1 1 0 0 1 2 1 2 2 0 2 1 0 2 2 1 0 0 2 0 1 1 1 1]\n",
      "train accuracy :  1.0\n",
      "test accuracy :  0.3449074074074074\n"
     ]
    }
   ],
   "source": [
    "# Predict test/train set\n",
    "W1 = params['W']\n",
    "b1 = params['b']\n",
    "y_prediction_train = predict(W1, b1, x_train)\n",
    "y_prediction_test = predict(W1, b1, x_test)\n",
    "print(y_prediction_train)\n",
    "print(y_prediction_test)\n",
    "# Print train/test Errors\n",
    "print(\"train accuracy : \", metrics.accuracy_score(y_prediction_train, y_train_orig))\n",
    "print(\"test accuracy : \", metrics.accuracy_score(y_prediction_test, y_test_orig))"
   ]
  }
 ],
 "metadata": {
  "kernelspec": {
   "display_name": "Python 3",
   "language": "python",
   "name": "python3"
  },
  "language_info": {
   "codemirror_mode": {
    "name": "ipython",
    "version": 3
   },
   "file_extension": ".py",
   "mimetype": "text/x-python",
   "name": "python",
   "nbconvert_exporter": "python",
   "pygments_lexer": "ipython3",
   "version": "3.7.4"
  }
 },
 "nbformat": 4,
 "nbformat_minor": 2
}
