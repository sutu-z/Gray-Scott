{
 "cells": [
  {
   "cell_type": "markdown",
   "metadata": {},
   "source": [
    "# 7. Single-layer Neural Network with Pattern images based on Lengyel-Epstein model\n",
    "- X : imges, Z = W1 * gradient(X) + W2 * X + b\n",
    "- optimizer : Adam"
   ]
  },
  {
   "cell_type": "markdown",
   "metadata": {},
   "source": [
    "## 1) Import Packages"
   ]
  },
  {
   "cell_type": "code",
   "execution_count": 1,
   "metadata": {},
   "outputs": [],
   "source": [
    "from PIL import Image \n",
    "import numpy as np\n",
    "import matplotlib.pyplot as plt\n",
    "import random\n",
    "from sklearn.model_selection import train_test_split\n",
    "from sklearn.preprocessing import OneHotEncoder\n",
    "import math\n",
    "import sklearn.metrics as metrics"
   ]
  },
  {
   "cell_type": "code",
   "execution_count": 2,
   "metadata": {},
   "outputs": [],
   "source": [
    "# Make dataset(144)\n",
    "x_orig = []\n",
    "y_orig = np.zeros((1,48))\n",
    "for i in range(1,145):\n",
    "    if i <= 48 :\n",
    "        folder = 0\n",
    "    elif i <=96 :\n",
    "        folder = 1\n",
    "    else:\n",
    "        folder = 2\n",
    "\n",
    "    img = Image.open('144/{0}/pattern_{1}.jpg'.format(folder,i)) \n",
    "    data = np.array(img)\n",
    "    x_orig.append(data)\n",
    "\n",
    "for i in range(1,3):\n",
    "    y_orig = np.append(y_orig, np.full((1, 48),i), axis = 1)"
   ]
  },
  {
   "cell_type": "code",
   "execution_count": 36,
   "metadata": {},
   "outputs": [],
   "source": [
    "# Make dataset(360)\n",
    "x_orig = []\n",
    "y_orig = np.zeros((1,120))\n",
    "for i in range(1,361):\n",
    "    if i <= 120 :\n",
    "        folder = 0\n",
    "    elif i <=240 :\n",
    "        folder = 1\n",
    "    else:\n",
    "        folder = 2\n",
    "\n",
    "    img = Image.open('360/{0}/pattern_{1}.jpg'.format(folder,i)) \n",
    "    data = np.array(img)\n",
    "    x_orig.append(data)\n",
    "\n",
    "for i in range(1,3):\n",
    "    y_orig = np.append(y_orig, np.full((1, 120),i), axis = 1)"
   ]
  },
  {
   "cell_type": "code",
   "execution_count": 53,
   "metadata": {},
   "outputs": [],
   "source": [
    "# Make dataset(720)\n",
    "x_orig = []\n",
    "y_orig = np.zeros((1,240))\n",
    "for i in range(1,721):\n",
    "    if i <= 240 :\n",
    "        folder = 0\n",
    "    elif i <=480 :\n",
    "        folder = 1\n",
    "    else:\n",
    "        folder = 2\n",
    "\n",
    "    img = Image.open('720/{0}/pattern_{1}.jpg'.format(folder,i)) \n",
    "    data = np.array(img)\n",
    "    x_orig.append(data)\n",
    "\n",
    "for i in range(1,3):\n",
    "    y_orig = np.append(y_orig, np.full((1, 240),i), axis = 1)"
   ]
  },
  {
   "cell_type": "code",
   "execution_count": 70,
   "metadata": {},
   "outputs": [
    {
     "name": "stdout",
     "output_type": "stream",
     "text": [
      "(1440, 64, 64)\n",
      "(1, 1440)\n"
     ]
    }
   ],
   "source": [
    "# Explore dataset\n",
    "x_orig = np.array(x_orig)\n",
    "print(x_orig.shape)\n",
    "print(y_orig.shape)  "
   ]
  },
  {
   "cell_type": "code",
   "execution_count": 71,
   "metadata": {},
   "outputs": [
    {
     "name": "stdout",
     "output_type": "stream",
     "text": [
      "(1440, 64, 64)\n",
      "(1, 1440)\n"
     ]
    }
   ],
   "source": [
    "# Random shuffle\n",
    "s = np.arange(x_orig.shape[0])\n",
    "np.random.shuffle(s)\n",
    "\n",
    "x_shuffle = x_orig[s,:]\n",
    "y_shuffle = y_orig[:,s]\n",
    "\n",
    "print(x_shuffle.shape)\n",
    "print(y_shuffle.shape)\n",
    "# y_shuffle"
   ]
  },
  {
   "cell_type": "code",
   "execution_count": 72,
   "metadata": {},
   "outputs": [],
   "source": [
    "# Split train and test datasets\n",
    "x_train_orig, x_test_orig, y_train_orig, y_test_orig = train_test_split(x_shuffle,y_shuffle.T, \n",
    "                                                                        test_size=0.3,  shuffle=True, random_state=1000)"
   ]
  },
  {
   "cell_type": "code",
   "execution_count": 73,
   "metadata": {},
   "outputs": [
    {
     "name": "stdout",
     "output_type": "stream",
     "text": [
      "(1008, 64, 64)\n",
      "(1008, 1)\n",
      "[343]\n",
      "[332]\n",
      "[333]\n"
     ]
    }
   ],
   "source": [
    "print(x_train_orig.shape)\n",
    "print (y_train_orig.shape)\n",
    "print(sum(y_train_orig==0))\n",
    "print(sum(y_train_orig==1))\n",
    "print(sum(y_train_orig==2))"
   ]
  },
  {
   "cell_type": "code",
   "execution_count": 74,
   "metadata": {
    "scrolled": true
   },
   "outputs": [
    {
     "name": "stdout",
     "output_type": "stream",
     "text": [
      "number of training examples = 1008\n",
      "number of test examples = 432\n",
      "x_train shape: (4096, 1008)\n",
      "y_train shape: (3, 1008)\n",
      "x_test shape: (4096, 432)\n",
      "y_test shape: (3, 432)\n"
     ]
    },
    {
     "name": "stderr",
     "output_type": "stream",
     "text": [
      "C:\\ProgramData\\Anaconda3\\lib\\site-packages\\sklearn\\preprocessing\\_encoders.py:415: FutureWarning: The handling of integer data will change in version 0.22. Currently, the categories are determined based on the range [0, max(values)], while in the future they will be determined based on the unique values.\n",
      "If you want the future behaviour and silence this warning, you can specify \"categories='auto'\".\n",
      "In case you used a LabelEncoder before this OneHotEncoder to convert the categories to integers, then you can now use the OneHotEncoder directly.\n",
      "  warnings.warn(msg, FutureWarning)\n",
      "C:\\ProgramData\\Anaconda3\\lib\\site-packages\\sklearn\\preprocessing\\_encoders.py:415: FutureWarning: The handling of integer data will change in version 0.22. Currently, the categories are determined based on the range [0, max(values)], while in the future they will be determined based on the unique values.\n",
      "If you want the future behaviour and silence this warning, you can specify \"categories='auto'\".\n",
      "In case you used a LabelEncoder before this OneHotEncoder to convert the categories to integers, then you can now use the OneHotEncoder directly.\n",
      "  warnings.warn(msg, FutureWarning)\n"
     ]
    }
   ],
   "source": [
    "# Flatten the training and test images\n",
    "x_train_flatten = x_train_orig.reshape(x_train_orig.shape[0], -1).T\n",
    "x_test_flatten = x_test_orig.reshape(x_test_orig.shape[0], -1).T\n",
    "\n",
    "# Normalize image vectors\n",
    "x_train = x_train_flatten/255.\n",
    "x_test = x_test_flatten/255.\n",
    "\n",
    "# Convert training and test labels to one hot matrices\n",
    "enc = OneHotEncoder()\n",
    "y1 = y_train_orig.reshape(-1,1)\n",
    "enc.fit(y1)\n",
    "y_train = enc.transform(y1).toarray()\n",
    "y_train = y_train.T\n",
    "\n",
    "y2 = y_test_orig.reshape(-1,1)\n",
    "enc.fit(y2)\n",
    "y_test = enc.transform(y2).toarray()\n",
    "y_test = y_test.T\n",
    "\n",
    "# Explore dataset \n",
    "print (\"number of training examples = \" + str(x_train.shape[1]))\n",
    "print (\"number of test examples = \" + str(x_test.shape[1]))\n",
    "print (\"x_train shape: \" + str(x_train.shape))\n",
    "print (\"y_train shape: \" + str(y_train.shape))\n",
    "print (\"x_test shape: \" + str(x_test.shape))\n",
    "print (\"y_test shape: \" + str(y_test.shape))"
   ]
  },
  {
   "cell_type": "markdown",
   "metadata": {},
   "source": [
    "## 3) Define required functions"
   ]
  },
  {
   "cell_type": "code",
   "execution_count": 75,
   "metadata": {},
   "outputs": [],
   "source": [
    "def initialize_parameters(nx, ny):\n",
    "    \"\"\"\n",
    "    Argument:\n",
    "        nx -- size of the input layer (4096)\n",
    "        ny -- size of the output layer (3)\n",
    "    \n",
    "    Returns:\n",
    "        W -- weight matrix of shape (ny, nx)\n",
    "        b -- bias vector of shape (ny, 1)\n",
    "\n",
    "    \"\"\"   \n",
    "    np.random.seed(1)\n",
    "\n",
    "    W1 = np.random.randn(ny,nx)*0.01\n",
    "    W2 = np.random.randn(ny,nx)*0.01\n",
    "    b = np.zeros((ny,1))\n",
    "\n",
    "    assert(W1.shape == (ny, nx))\n",
    "    assert(W2.shape == (ny, nx))\n",
    "    assert(b.shape == (ny, 1))\n",
    "\n",
    "    \n",
    "    return W1, W2, b  "
   ]
  },
  {
   "cell_type": "code",
   "execution_count": 76,
   "metadata": {},
   "outputs": [],
   "source": [
    "def softmax(Z):\n",
    "    # compute the softmax activation\n",
    "    \n",
    "    S = np.exp(Z + np.max(Z)) / np.sum(np.exp(Z + np.max(Z)), axis = 0)\n",
    "    \n",
    "    return S"
   ]
  },
  {
   "cell_type": "code",
   "execution_count": 77,
   "metadata": {},
   "outputs": [],
   "source": [
    "def classlabel(Z):\n",
    "    # probabilities back into class labels\n",
    "    y_hat = Z.argmax(axis=0)\n",
    "    \n",
    "    return y_hat"
   ]
  },
  {
   "cell_type": "code",
   "execution_count": 78,
   "metadata": {},
   "outputs": [],
   "source": [
    "def gradient_vec(X):\n",
    "    g_X_r = np.gradient(X, axis = 1)\n",
    "    g_X_c = np.gradient(X, axis = 0)\n",
    "    g_X = g_X_r**2 + g_X_c**2\n",
    "    return g_X"
   ]
  },
  {
   "cell_type": "code",
   "execution_count": 79,
   "metadata": {},
   "outputs": [
    {
     "data": {
      "text/plain": [
       "(4096, 1008)"
      ]
     },
     "execution_count": 79,
     "metadata": {},
     "output_type": "execute_result"
    }
   ],
   "source": [
    "a = gradient_vec(x_train)\n",
    "a.shape"
   ]
  },
  {
   "cell_type": "code",
   "execution_count": 80,
   "metadata": {},
   "outputs": [],
   "source": [
    "def propagate(W1,W2, b, X, Y):\n",
    "\n",
    "    m = X.shape[1]\n",
    "#     n = Y.shape[0]\n",
    "    \n",
    "    # Forward Propagation\n",
    "    Z = np.dot(W1, gradient_vec(X))+ (np.dot(W2,X)+b)\n",
    "    A = softmax(Z)     # compute activation\n",
    "    \n",
    "    cost = (-1/m) * np.sum(Y * np.log(A))  # compute cost (Cross_entropy)\n",
    "    \n",
    "    # Backward propagation   \n",
    "    dW1 = (1/m) * (np.dot(gradient_vec(X),(A-Y).T)).T\n",
    "    dW2 = (1/m) * (np.dot(X,(A-Y).T)).T\n",
    "    db = (1/m) * (np.sum(A-Y))\n",
    "    \n",
    "#     assert(dW.shape == W.shape)\n",
    "#     assert(db.dtype == float)\n",
    "#     cost = np.squeeze(cost)\n",
    "#     assert(cost.shape == (Y.shape[0],1))\n",
    "    \n",
    "    grads = {\"dW1\": dW1,\n",
    "             \"dW2\" : dW2,\n",
    "             \"db\": db}\n",
    "    \n",
    "    return grads, cost"
   ]
  },
  {
   "cell_type": "markdown",
   "metadata": {},
   "source": [
    "## 4) Single-2weight Layer Neural Network with Adam"
   ]
  },
  {
   "cell_type": "code",
   "execution_count": 81,
   "metadata": {},
   "outputs": [],
   "source": [
    "def optimize(X, Y, num_iterations, learning_rate, t, beta1 = 0.9, beta2 = 0.999,  epsilon = 1e-8, print_cost = False):\n",
    "\n",
    "    costs = []\n",
    "    W1, W2, b = initialize_parameters(4096,3)\n",
    "     # initialize with adam\n",
    "    v_dW1 = np.zeros((W1.shape[0],W1.shape[1]))\n",
    "    v_dW2 = np.zeros((W2.shape[0],W2.shape[1]))\n",
    "    v_db = np.zeros((b.shape[0],b.shape[1]))\n",
    "    \n",
    "    s_dW1 = np.zeros((W1.shape[0],W1.shape[1]))\n",
    "    s_dW2 = np.zeros((W2.shape[0],W2.shape[1]))\n",
    "    s_db = np.zeros((b.shape[0],b.shape[1]))\n",
    "    \n",
    "    for i in range(num_iterations):\n",
    "\n",
    "        grads, cost = propagate(W1,W2, b, X, Y)\n",
    "\n",
    "        dW1 = grads[\"dW1\"]\n",
    "        dW2 = grads[\"dW2\"]\n",
    "        db = grads[\"db\"]\n",
    "        \n",
    "        # update parameters with adam\n",
    "        v_dW1 = beta1 * v_dW1 + (1-beta1) * dW1\n",
    "        v_dW2 = beta1 * v_dW2 + (1-beta1) * dW2\n",
    "        v_db = beta1 * v_db + (1-beta1) * db\n",
    "\n",
    "        # Compute bias-corrected first moment estimate\n",
    "        v_corrected_dW1 = v_dW1 / (1-beta1**t)\n",
    "        v_corrected_dW2 = v_dW2 / (1-beta1**t)\n",
    "        v_corrected_db = v_db / (1-beta1**t)\n",
    "        \n",
    "        # Moving average of the squared gradients\n",
    "        s_dW1 = beta2 * s_dW1 + (1-beta2) * dW1 ** 2\n",
    "        s_dW2 = beta2 * s_dW2 + (1-beta2) * dW2 ** 2\n",
    "        s_db = beta2 * s_db + (1-beta2) * db ** 2\n",
    "\n",
    "        # Compute bias-corrected second raw moment estimate.\n",
    "        s_corrected_dW1 = s_dW1 / (1-beta2**t)\n",
    "        s_corrected_dW2 = s_dW2 / (1-beta2**t)\n",
    "        s_corrected_db = s_db / (1-beta2**t)\n",
    "\n",
    "        # Update parameters\n",
    "        W1 = W1 - (learning_rate) * ((v_corrected_dW1) / (s_corrected_dW1 **(1/2) + epsilon))\n",
    "        W2 = W2 - (learning_rate) * ((v_corrected_dW2) / (s_corrected_dW2 **(1/2) + epsilon))\n",
    "        b = b - (learning_rate) * ((v_corrected_db) / (s_corrected_db ** (1/2) + epsilon))\n",
    "\n",
    "        # Record the costs for plotting\n",
    "        if i % 200 == 0:\n",
    "            costs.append(cost)\n",
    "            \n",
    "        # Print the cost every 100 training iterations\n",
    "        if print_cost and i % 200 == 0:\n",
    "            print (\"Cost after iteration %i: %f\" %(i, cost))\n",
    "            \n",
    "    # plot the cost\n",
    "    plt.plot(costs)\n",
    "    plt.ylabel('cost')\n",
    "    plt.xlabel('iterations (per 200)')\n",
    "    plt.title(\"Learning rate =\" + str(learning_rate))\n",
    "    plt.show()\n",
    "    \n",
    "    # Lets save the trainded parameters in a variable\n",
    "    params = {\"W1\": W1,\n",
    "              \"W2\": W2,\n",
    "              \"b\": b}    \n",
    "    grads = {\"dW1\": dW1,\n",
    "             \"dW2\":dW2,\n",
    "             \"db\": db}\n",
    "    \n",
    "    return params, grads, costs"
   ]
  },
  {
   "cell_type": "code",
   "execution_count": 83,
   "metadata": {
    "scrolled": true
   },
   "outputs": [
    {
     "name": "stdout",
     "output_type": "stream",
     "text": [
      "Cost after iteration 0: 1.095678\n",
      "Cost after iteration 200: 12.664003\n",
      "Cost after iteration 400: 0.955016\n",
      "Cost after iteration 600: 0.377431\n",
      "Cost after iteration 800: 0.317457\n",
      "Cost after iteration 1000: 0.278037\n",
      "Cost after iteration 1200: 0.255944\n"
     ]
    },
    {
     "data": {
      "image/png": "[encoded data removed]",
      "text/plain": [
       "<Figure size 432x288 with 1 Axes>"
      ]
     },
     "metadata": {
      "needs_background": "light"
     },
     "output_type": "display_data"
    },
    {
     "name": "stdout",
     "output_type": "stream",
     "text": [
      "W1 = [[ 0.81349117 -0.19220398 -0.7878607  ...  0.36504411  0.06861399\n",
      "  -0.34905584]\n",
      " [-0.06010139  0.05417729  0.62319032 ... -0.53762137 -0.38884774\n",
      "   0.24419687]\n",
      " [-0.67299846  0.29877986  0.32778676 ...  0.23710955  0.41579735\n",
      "   0.25098491]]\n",
      "W2 = [[-0.11023509  0.05416188  0.00475998 ...  0.03401764  0.04540081\n",
      "  -0.00026561]\n",
      " [ 0.06076452  0.00064384  0.02175257 ...  0.16270174  0.06790461\n",
      "   0.05669415]\n",
      " [ 0.14701128  0.03663742  0.04651135 ... -0.0654719  -0.03804284\n",
      "   0.02753162]]\n",
      "b = [[1.63724866e-12]\n",
      " [1.63724866e-12]\n",
      " [1.63724866e-12]]\n"
     ]
    }
   ],
   "source": [
    "params, grads, costs = optimize(x_train, y_train, num_iterations=1400, learning_rate=0.06,\n",
    "                                t=2, beta1 = 0.9, beta2 = 0.999,  epsilon = 1e-4, print_cost = True)\n",
    "\n",
    "print (\"W1 = \" + str(params[\"W1\"]))\n",
    "print (\"W2 = \" + str(params[\"W2\"]))\n",
    "print (\"b = \" + str(params[\"b\"]))"
   ]
  },
  {
   "cell_type": "markdown",
   "metadata": {},
   "source": [
    "## 5) Accuracy Analysis"
   ]
  },
  {
   "cell_type": "code",
   "execution_count": 84,
   "metadata": {},
   "outputs": [],
   "source": [
    "def predict(W1,W2, b, X) :\n",
    "    '''\n",
    "    Predict the label(0,1,2) using argmax\n",
    "    \n",
    "    Arguments:\n",
    "    X : data of size (num_px * num_px, number of examples)\n",
    "    \n",
    "    Returns:\n",
    "    y_prediction : predictions (0/1/2) for the examples(my_image)\n",
    "    '''\n",
    "    \n",
    "    m = X.shape[1]\n",
    "    \n",
    "    # Compute \"A\" predicting the probabilities\n",
    "    Z = np.dot(W1, gradient_vec(X))+ (np.dot(W2,X)+b)\n",
    "    A = softmax(Z)     # compute activation\n",
    "\n",
    "    # Convert probabilities A to actual predictions\n",
    "    y_prediction = A.argmax(axis=0)\n",
    "    \n",
    "#     assert(y_prediction.shape == (1, m))\n",
    "    \n",
    "    return y_prediction"
   ]
  },
  {
   "cell_type": "code",
   "execution_count": 85,
   "metadata": {},
   "outputs": [
    {
     "name": "stdout",
     "output_type": "stream",
     "text": [
      "[0 1 1 ... 1 0 2]\n",
      "[1 0 2 0 2 2 0 0 0 0 1 1 0 2 0 1 0 0 0 0 0 2 1 0 0 0 2 0 1 0 0 2 1 0 2 0 0\n",
      " 1 0 0 0 2 0 0 2 1 2 0 1 0 1 0 0 0 1 1 0 1 0 1 0 1 0 1 1 0 0 2 2 1 0 1 1 1\n",
      " 2 0 2 1 1 2 2 1 2 1 2 2 1 0 1 0 0 1 0 2 0 0 1 1 0 1 0 1 1 0 1 2 0 0 0 0 0\n",
      " 2 1 0 2 2 2 0 0 2 0 1 2 0 2 0 0 2 0 2 0 0 0 0 2 0 2 0 0 1 0 0 0 2 2 0 0 0\n",
      " 2 1 1 1 0 2 0 1 0 1 0 0 1 0 0 0 0 0 2 0 2 0 0 0 1 0 0 1 0 1 2 1 2 1 0 2 0\n",
      " 1 0 0 0 0 0 1 0 2 1 0 2 1 2 1 0 1 2 0 2 0 1 0 0 1 2 0 2 0 0 0 0 2 0 0 0 0\n",
      " 1 1 0 0 0 0 1 0 1 2 1 1 0 0 0 1 0 0 2 0 0 0 0 0 0 2 0 1 2 1 1 0 0 0 0 2 0\n",
      " 1 0 2 0 0 1 1 1 0 1 0 0 1 0 0 0 1 0 0 0 0 0 0 2 0 1 2 2 1 2 2 0 0 1 0 1 0\n",
      " 2 2 0 0 0 0 0 0 0 1 2 0 2 0 0 0 0 0 2 1 0 1 0 1 0 2 0 0 1 1 0 1 0 0 0 1 1\n",
      " 0 0 0 2 1 1 0 2 0 1 2 0 1 0 1 0 1 0 0 0 2 0 1 1 0 1 0 1 0 2 2 0 2 1 0 0 0\n",
      " 1 2 1 0 1 0 0 1 1 0 1 1 2 1 2 2 1 0 0 2 0 2 0 1 2 0 1 1 0 0 2 2 2 1 2 0 2\n",
      " 2 0 0 0 1 0 0 0 2 1 0 1 0 1 1 0 1 2 2 1 1 2 1 0 1]\n",
      "train accuracy :  0.9613095238095238\n",
      "test accuracy :  0.4027777777777778\n"
     ]
    }
   ],
   "source": [
    "# Predict test/train set\n",
    "W11 = params['W1']\n",
    "W22 = params['W2']\n",
    "b11= params['b']\n",
    "\n",
    "y_prediction_train = predict(W11,W22, b11, x_train)\n",
    "y_prediction_test = predict(W11,W22, b11, x_test)\n",
    "\n",
    "print(y_prediction_train)\n",
    "print(y_prediction_test)\n",
    "\n",
    "# Print train/test Errors\n",
    "print(\"train accuracy : \", metrics.accuracy_score(y_prediction_train, y_train_orig))\n",
    "print(\"test accuracy : \", metrics.accuracy_score(y_prediction_test, y_test_orig))"
   ]
  }
 ],
 "metadata": {
  "kernelspec": {
   "display_name": "Python 3",
   "language": "python",
   "name": "python3"
  },
  "language_info": {
   "codemirror_mode": {
    "name": "ipython",
    "version": 3
   },
   "file_extension": ".py",
   "mimetype": "text/x-python",
   "name": "python",
   "nbconvert_exporter": "python",
   "pygments_lexer": "ipython3",
   "version": "3.7.4"
  }
 },
 "nbformat": 4,
 "nbformat_minor": 2
}
